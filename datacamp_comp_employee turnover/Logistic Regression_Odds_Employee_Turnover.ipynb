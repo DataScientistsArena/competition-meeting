{
 "cells": [
  {
   "cell_type": "markdown",
   "id": "08b06bd8",
   "metadata": {},
   "source": [
    "## Table 1 : Regression output"
   ]
  },
  {
   "cell_type": "markdown",
   "id": "66d48649",
   "metadata": {},
   "source": [
    "https://app.datacamp.com/workspace/w/acce6834-78ac-4e3c-9f36-a37b6da20ffe#output-from-the-logistic--regression-model"
   ]
  },
  {
   "cell_type": "code",
   "execution_count": 121,
   "id": "503fef23",
   "metadata": {},
   "outputs": [],
   "source": [
    "import warnings\n",
    "warnings.filterwarnings(\"ignore\")"
   ]
  },
  {
   "cell_type": "code",
   "execution_count": 122,
   "id": "bdb478fe",
   "metadata": {},
   "outputs": [
    {
     "data": {
      "text/html": [
       "<div>\n",
       "<style scoped>\n",
       "    .dataframe tbody tr th:only-of-type {\n",
       "        vertical-align: middle;\n",
       "    }\n",
       "\n",
       "    .dataframe tbody tr th {\n",
       "        vertical-align: top;\n",
       "    }\n",
       "\n",
       "    .dataframe thead th {\n",
       "        text-align: right;\n",
       "    }\n",
       "</style>\n",
       "<table border=\"1\" class=\"dataframe\">\n",
       "  <thead>\n",
       "    <tr style=\"text-align: right;\">\n",
       "      <th></th>\n",
       "      <th>department</th>\n",
       "      <th>promoted</th>\n",
       "      <th>review</th>\n",
       "      <th>projects</th>\n",
       "      <th>salary</th>\n",
       "      <th>tenure</th>\n",
       "      <th>satisfaction</th>\n",
       "      <th>bonus</th>\n",
       "      <th>avg_hrs_month</th>\n",
       "      <th>left</th>\n",
       "    </tr>\n",
       "  </thead>\n",
       "  <tbody>\n",
       "    <tr>\n",
       "      <th>0</th>\n",
       "      <td>operations</td>\n",
       "      <td>0</td>\n",
       "      <td>0.577569</td>\n",
       "      <td>3</td>\n",
       "      <td>low</td>\n",
       "      <td>5.0</td>\n",
       "      <td>0.626759</td>\n",
       "      <td>0</td>\n",
       "      <td>180.866070</td>\n",
       "      <td>no</td>\n",
       "    </tr>\n",
       "    <tr>\n",
       "      <th>1</th>\n",
       "      <td>operations</td>\n",
       "      <td>0</td>\n",
       "      <td>0.751900</td>\n",
       "      <td>3</td>\n",
       "      <td>medium</td>\n",
       "      <td>6.0</td>\n",
       "      <td>0.443679</td>\n",
       "      <td>0</td>\n",
       "      <td>182.708149</td>\n",
       "      <td>no</td>\n",
       "    </tr>\n",
       "    <tr>\n",
       "      <th>2</th>\n",
       "      <td>support</td>\n",
       "      <td>0</td>\n",
       "      <td>0.722548</td>\n",
       "      <td>3</td>\n",
       "      <td>medium</td>\n",
       "      <td>6.0</td>\n",
       "      <td>0.446823</td>\n",
       "      <td>0</td>\n",
       "      <td>184.416084</td>\n",
       "      <td>no</td>\n",
       "    </tr>\n",
       "    <tr>\n",
       "      <th>3</th>\n",
       "      <td>logistics</td>\n",
       "      <td>0</td>\n",
       "      <td>0.675158</td>\n",
       "      <td>4</td>\n",
       "      <td>high</td>\n",
       "      <td>8.0</td>\n",
       "      <td>0.440139</td>\n",
       "      <td>0</td>\n",
       "      <td>188.707545</td>\n",
       "      <td>no</td>\n",
       "    </tr>\n",
       "    <tr>\n",
       "      <th>4</th>\n",
       "      <td>sales</td>\n",
       "      <td>0</td>\n",
       "      <td>0.676203</td>\n",
       "      <td>3</td>\n",
       "      <td>high</td>\n",
       "      <td>5.0</td>\n",
       "      <td>0.577607</td>\n",
       "      <td>1</td>\n",
       "      <td>179.821083</td>\n",
       "      <td>no</td>\n",
       "    </tr>\n",
       "    <tr>\n",
       "      <th>...</th>\n",
       "      <td>...</td>\n",
       "      <td>...</td>\n",
       "      <td>...</td>\n",
       "      <td>...</td>\n",
       "      <td>...</td>\n",
       "      <td>...</td>\n",
       "      <td>...</td>\n",
       "      <td>...</td>\n",
       "      <td>...</td>\n",
       "      <td>...</td>\n",
       "    </tr>\n",
       "    <tr>\n",
       "      <th>9535</th>\n",
       "      <td>operations</td>\n",
       "      <td>0</td>\n",
       "      <td>0.610988</td>\n",
       "      <td>4</td>\n",
       "      <td>medium</td>\n",
       "      <td>8.0</td>\n",
       "      <td>0.543641</td>\n",
       "      <td>0</td>\n",
       "      <td>188.155738</td>\n",
       "      <td>yes</td>\n",
       "    </tr>\n",
       "    <tr>\n",
       "      <th>9536</th>\n",
       "      <td>logistics</td>\n",
       "      <td>0</td>\n",
       "      <td>0.746887</td>\n",
       "      <td>3</td>\n",
       "      <td>medium</td>\n",
       "      <td>8.0</td>\n",
       "      <td>0.549048</td>\n",
       "      <td>0</td>\n",
       "      <td>188.176164</td>\n",
       "      <td>yes</td>\n",
       "    </tr>\n",
       "    <tr>\n",
       "      <th>9537</th>\n",
       "      <td>operations</td>\n",
       "      <td>0</td>\n",
       "      <td>0.557980</td>\n",
       "      <td>3</td>\n",
       "      <td>low</td>\n",
       "      <td>7.0</td>\n",
       "      <td>0.705425</td>\n",
       "      <td>0</td>\n",
       "      <td>186.531008</td>\n",
       "      <td>yes</td>\n",
       "    </tr>\n",
       "    <tr>\n",
       "      <th>9538</th>\n",
       "      <td>IT</td>\n",
       "      <td>0</td>\n",
       "      <td>0.584446</td>\n",
       "      <td>4</td>\n",
       "      <td>medium</td>\n",
       "      <td>8.0</td>\n",
       "      <td>0.607287</td>\n",
       "      <td>1</td>\n",
       "      <td>187.641370</td>\n",
       "      <td>yes</td>\n",
       "    </tr>\n",
       "    <tr>\n",
       "      <th>9539</th>\n",
       "      <td>finance</td>\n",
       "      <td>0</td>\n",
       "      <td>0.626373</td>\n",
       "      <td>3</td>\n",
       "      <td>low</td>\n",
       "      <td>7.0</td>\n",
       "      <td>0.706455</td>\n",
       "      <td>1</td>\n",
       "      <td>185.920934</td>\n",
       "      <td>yes</td>\n",
       "    </tr>\n",
       "  </tbody>\n",
       "</table>\n",
       "<p>9540 rows × 10 columns</p>\n",
       "</div>"
      ],
      "text/plain": [
       "      department  promoted    review  projects  salary  tenure  satisfaction  \\\n",
       "0     operations         0  0.577569         3     low     5.0      0.626759   \n",
       "1     operations         0  0.751900         3  medium     6.0      0.443679   \n",
       "2        support         0  0.722548         3  medium     6.0      0.446823   \n",
       "3      logistics         0  0.675158         4    high     8.0      0.440139   \n",
       "4          sales         0  0.676203         3    high     5.0      0.577607   \n",
       "...          ...       ...       ...       ...     ...     ...           ...   \n",
       "9535  operations         0  0.610988         4  medium     8.0      0.543641   \n",
       "9536   logistics         0  0.746887         3  medium     8.0      0.549048   \n",
       "9537  operations         0  0.557980         3     low     7.0      0.705425   \n",
       "9538          IT         0  0.584446         4  medium     8.0      0.607287   \n",
       "9539     finance         0  0.626373         3     low     7.0      0.706455   \n",
       "\n",
       "      bonus  avg_hrs_month left  \n",
       "0         0     180.866070   no  \n",
       "1         0     182.708149   no  \n",
       "2         0     184.416084   no  \n",
       "3         0     188.707545   no  \n",
       "4         1     179.821083   no  \n",
       "...     ...            ...  ...  \n",
       "9535      0     188.155738  yes  \n",
       "9536      0     188.176164  yes  \n",
       "9537      0     186.531008  yes  \n",
       "9538      1     187.641370  yes  \n",
       "9539      1     185.920934  yes  \n",
       "\n",
       "[9540 rows x 10 columns]"
      ]
     },
     "execution_count": 122,
     "metadata": {},
     "output_type": "execute_result"
    }
   ],
   "source": [
    "import pandas as pd\n",
    "import numpy as np\n",
    "df=pd.read_csv(\"employee_churn_data.csv\")\n",
    "df"
   ]
  },
  {
   "cell_type": "code",
   "execution_count": 123,
   "id": "edd42787",
   "metadata": {},
   "outputs": [],
   "source": [
    "\n",
    "\n",
    "df['salary'] = df['salary'].map({\n",
    "        'low': 0, 'medium': 1, 'high': 2\n",
    "    })\n",
    "df['left'] = df['left'].map({\n",
    "        \"no\": 0,\"yes\": 1,\n",
    "    })\n"
   ]
  },
  {
   "cell_type": "code",
   "execution_count": 124,
   "id": "a0385a6c",
   "metadata": {},
   "outputs": [],
   "source": [
    "df[\"reward\"]=((df[\"promoted\"]==0)&(df[\"bonus\"]==0)).replace([True,False], [0,1])"
   ]
  },
  {
   "cell_type": "code",
   "execution_count": 125,
   "id": "e5e267e1",
   "metadata": {},
   "outputs": [],
   "source": [
    "df=df[[\"department\",\"review\",\"tenure\",\"reward\",\"avg_hrs_month\",\"projects\",\"left\"]]"
   ]
  },
  {
   "cell_type": "code",
   "execution_count": 126,
   "id": "4e173714",
   "metadata": {},
   "outputs": [],
   "source": [
    "df_dep=df[df[\"department\"]==\"admin\"].reset_index(drop=True).set_index(\"department\")"
   ]
  },
  {
   "cell_type": "code",
   "execution_count": 127,
   "id": "a0586216",
   "metadata": {},
   "outputs": [
    {
     "data": {
      "text/plain": [
       "Index(['review', 'tenure', 'reward', 'avg_hrs_month', 'projects', 'left'], dtype='object')"
      ]
     },
     "execution_count": 127,
     "metadata": {},
     "output_type": "execute_result"
    }
   ],
   "source": [
    "df_dep.columns"
   ]
  },
  {
   "cell_type": "code",
   "execution_count": 129,
   "id": "6ca4f1ff",
   "metadata": {},
   "outputs": [
    {
     "name": "stdout",
     "output_type": "stream",
     "text": [
      "Optimization terminated successfully.\n",
      "         Current function value: 0.544581\n",
      "         Iterations 6\n"
     ]
    },
    {
     "data": {
      "text/html": [
       "<table class=\"simpletable\">\n",
       "<caption>Logit Regression Results</caption>\n",
       "<tr>\n",
       "  <th>Dep. Variable:</th>         <td>left</td>       <th>  No. Observations:  </th>  <td>   423</td>  \n",
       "</tr>\n",
       "<tr>\n",
       "  <th>Model:</th>                 <td>Logit</td>      <th>  Df Residuals:      </th>  <td>   417</td>  \n",
       "</tr>\n",
       "<tr>\n",
       "  <th>Method:</th>                 <td>MLE</td>       <th>  Df Model:          </th>  <td>     5</td>  \n",
       "</tr>\n",
       "<tr>\n",
       "  <th>Date:</th>            <td>Wed, 29 Mar 2023</td> <th>  Pseudo R-squ.:     </th>  <td>0.08351</td> \n",
       "</tr>\n",
       "<tr>\n",
       "  <th>Time:</th>                <td>22:21:58</td>     <th>  Log-Likelihood:    </th> <td> -230.36</td> \n",
       "</tr>\n",
       "<tr>\n",
       "  <th>converged:</th>             <td>True</td>       <th>  LL-Null:           </th> <td> -251.35</td> \n",
       "</tr>\n",
       "<tr>\n",
       "  <th>Covariance Type:</th>     <td>nonrobust</td>    <th>  LLR p-value:       </th> <td>5.953e-08</td>\n",
       "</tr>\n",
       "</table>\n",
       "<table class=\"simpletable\">\n",
       "<tr>\n",
       "        <td></td>           <th>coef</th>     <th>std err</th>      <th>z</th>      <th>P>|z|</th>  <th>[0.025</th>    <th>0.975]</th>  \n",
       "</tr>\n",
       "<tr>\n",
       "  <th>Intercept</th>     <td>  -41.3129</td> <td>   22.632</td> <td>   -1.825</td> <td> 0.068</td> <td>  -85.671</td> <td>    3.045</td>\n",
       "</tr>\n",
       "<tr>\n",
       "  <th>reward</th>        <td>   -0.1307</td> <td>    0.282</td> <td>   -0.463</td> <td> 0.643</td> <td>   -0.683</td> <td>    0.422</td>\n",
       "</tr>\n",
       "<tr>\n",
       "  <th>avg_hrs_month</th> <td>    0.2015</td> <td>    0.135</td> <td>    1.492</td> <td> 0.136</td> <td>   -0.063</td> <td>    0.466</td>\n",
       "</tr>\n",
       "<tr>\n",
       "  <th>projects</th>      <td>   -0.0283</td> <td>    0.208</td> <td>   -0.136</td> <td> 0.892</td> <td>   -0.436</td> <td>    0.379</td>\n",
       "</tr>\n",
       "<tr>\n",
       "  <th>tenure</th>        <td>   -0.3674</td> <td>    0.392</td> <td>   -0.938</td> <td> 0.348</td> <td>   -1.135</td> <td>    0.400</td>\n",
       "</tr>\n",
       "<tr>\n",
       "  <th>review</th>        <td>    8.6317</td> <td>    1.511</td> <td>    5.713</td> <td> 0.000</td> <td>    5.670</td> <td>   11.593</td>\n",
       "</tr>\n",
       "</table>"
      ],
      "text/plain": [
       "<class 'statsmodels.iolib.summary.Summary'>\n",
       "\"\"\"\n",
       "                           Logit Regression Results                           \n",
       "==============================================================================\n",
       "Dep. Variable:                   left   No. Observations:                  423\n",
       "Model:                          Logit   Df Residuals:                      417\n",
       "Method:                           MLE   Df Model:                            5\n",
       "Date:                Wed, 29 Mar 2023   Pseudo R-squ.:                 0.08351\n",
       "Time:                        22:21:58   Log-Likelihood:                -230.36\n",
       "converged:                       True   LL-Null:                       -251.35\n",
       "Covariance Type:            nonrobust   LLR p-value:                 5.953e-08\n",
       "=================================================================================\n",
       "                    coef    std err          z      P>|z|      [0.025      0.975]\n",
       "---------------------------------------------------------------------------------\n",
       "Intercept       -41.3129     22.632     -1.825      0.068     -85.671       3.045\n",
       "reward           -0.1307      0.282     -0.463      0.643      -0.683       0.422\n",
       "avg_hrs_month     0.2015      0.135      1.492      0.136      -0.063       0.466\n",
       "projects         -0.0283      0.208     -0.136      0.892      -0.436       0.379\n",
       "tenure           -0.3674      0.392     -0.938      0.348      -1.135       0.400\n",
       "review            8.6317      1.511      5.713      0.000       5.670      11.593\n",
       "=================================================================================\n",
       "\"\"\""
      ]
     },
     "execution_count": 129,
     "metadata": {},
     "output_type": "execute_result"
    }
   ],
   "source": [
    "import statsmodels.formula.api as smf\n",
    "model = smf.logit(\"left ~ reward + avg_hrs_month + projects + tenure + review\", data = df_dep).fit()\n",
    "\n",
    "model.summary()"
   ]
  },
  {
   "cell_type": "code",
   "execution_count": 130,
   "id": "a02ddceb",
   "metadata": {},
   "outputs": [
    {
     "data": {
      "text/html": [
       "<div>\n",
       "<style scoped>\n",
       "    .dataframe tbody tr th:only-of-type {\n",
       "        vertical-align: middle;\n",
       "    }\n",
       "\n",
       "    .dataframe tbody tr th {\n",
       "        vertical-align: top;\n",
       "    }\n",
       "\n",
       "    .dataframe thead th {\n",
       "        text-align: right;\n",
       "    }\n",
       "</style>\n",
       "<table border=\"1\" class=\"dataframe\">\n",
       "  <thead>\n",
       "    <tr style=\"text-align: right;\">\n",
       "      <th></th>\n",
       "      <th>Department</th>\n",
       "      <th>Variable</th>\n",
       "      <th>Odds</th>\n",
       "      <th>Log odds</th>\n",
       "      <th>z-value</th>\n",
       "      <th>2.5%</th>\n",
       "      <th>97.5%</th>\n",
       "    </tr>\n",
       "  </thead>\n",
       "  <tbody>\n",
       "    <tr>\n",
       "      <th>0</th>\n",
       "      <td>admin</td>\n",
       "      <td>Intercept</td>\n",
       "      <td>0.000</td>\n",
       "      <td>-41.313</td>\n",
       "      <td>0.068</td>\n",
       "      <td>0.000</td>\n",
       "      <td>21.011</td>\n",
       "    </tr>\n",
       "    <tr>\n",
       "      <th>1</th>\n",
       "      <td>admin</td>\n",
       "      <td>reward</td>\n",
       "      <td>0.878</td>\n",
       "      <td>-0.131</td>\n",
       "      <td>0.643</td>\n",
       "      <td>0.505</td>\n",
       "      <td>1.525</td>\n",
       "    </tr>\n",
       "    <tr>\n",
       "      <th>2</th>\n",
       "      <td>admin</td>\n",
       "      <td>avg_hrs_month</td>\n",
       "      <td>1.223</td>\n",
       "      <td>0.202</td>\n",
       "      <td>0.136</td>\n",
       "      <td>0.939</td>\n",
       "      <td>1.594</td>\n",
       "    </tr>\n",
       "    <tr>\n",
       "      <th>3</th>\n",
       "      <td>admin</td>\n",
       "      <td>projects</td>\n",
       "      <td>0.972</td>\n",
       "      <td>-0.028</td>\n",
       "      <td>0.892</td>\n",
       "      <td>0.647</td>\n",
       "      <td>1.462</td>\n",
       "    </tr>\n",
       "    <tr>\n",
       "      <th>4</th>\n",
       "      <td>admin</td>\n",
       "      <td>tenure</td>\n",
       "      <td>0.692</td>\n",
       "      <td>-0.367</td>\n",
       "      <td>0.348</td>\n",
       "      <td>0.321</td>\n",
       "      <td>1.492</td>\n",
       "    </tr>\n",
       "    <tr>\n",
       "      <th>5</th>\n",
       "      <td>admin</td>\n",
       "      <td>review</td>\n",
       "      <td>5606.625</td>\n",
       "      <td>8.632</td>\n",
       "      <td>0.000</td>\n",
       "      <td>290.149</td>\n",
       "      <td>108338.364</td>\n",
       "    </tr>\n",
       "  </tbody>\n",
       "</table>\n",
       "</div>"
      ],
      "text/plain": [
       "  Department       Variable      Odds  Log odds  z-value     2.5%       97.5%\n",
       "0      admin      Intercept     0.000   -41.313    0.068    0.000      21.011\n",
       "1      admin         reward     0.878    -0.131    0.643    0.505       1.525\n",
       "2      admin  avg_hrs_month     1.223     0.202    0.136    0.939       1.594\n",
       "3      admin       projects     0.972    -0.028    0.892    0.647       1.462\n",
       "4      admin         tenure     0.692    -0.367    0.348    0.321       1.492\n",
       "5      admin         review  5606.625     8.632    0.000  290.149  108338.364"
      ]
     },
     "execution_count": 130,
     "metadata": {},
     "output_type": "execute_result"
    }
   ],
   "source": [
    "model_odds = pd.DataFrame(np.exp(model.params), columns= ['Odds'])\n",
    "model_odds['z-value']= model.pvalues\n",
    "model_odds[['2.5%', '97.5%']] = np.exp(model.conf_int())\n",
    "model_odds.insert(1,\"Log odds\",np.log(model_odds[\"Odds\"]))\n",
    "model_odds = model_odds.rename_axis('Variable').reset_index()\n",
    "model_odds.insert(0,\"Department\",\"admin\")\n",
    "model_odds=round(model_odds,3)\n",
    "model_odds"
   ]
  },
  {
   "cell_type": "markdown",
   "id": "dde9a187",
   "metadata": {},
   "source": [
    "https://www.pythonfordatascience.org/logistic-regression-python/"
   ]
  },
  {
   "cell_type": "markdown",
   "id": "afe11240",
   "metadata": {},
   "source": [
    "https://towardsdatascience.com/how-to-interpret-the-odds-ratio-with-categorical-variables-in-logistic-regression-5bb38e3fc6a8"
   ]
  },
  {
   "cell_type": "code",
   "execution_count": 134,
   "id": "c846c51f",
   "metadata": {},
   "outputs": [
    {
     "data": {
      "text/plain": [
       "0.408983451536643"
      ]
     },
     "execution_count": 134,
     "metadata": {},
     "output_type": "execute_result"
    }
   ],
   "source": [
    "0.692/1.692"
   ]
  },
  {
   "cell_type": "code",
   "execution_count": 136,
   "id": "7dc4b2a3",
   "metadata": {},
   "outputs": [
    {
     "data": {
      "text/plain": [
       "0.9999331193151418"
      ]
     },
     "execution_count": 136,
     "metadata": {},
     "output_type": "execute_result"
    }
   ],
   "source": [
    "5606.625/5607"
   ]
  },
  {
   "cell_type": "code",
   "execution_count": null,
   "id": "4026bd53",
   "metadata": {},
   "outputs": [],
   "source": []
  }
 ],
 "metadata": {
  "kernelspec": {
   "display_name": "Python 3 (ipykernel)",
   "language": "python",
   "name": "python3"
  },
  "language_info": {
   "codemirror_mode": {
    "name": "ipython",
    "version": 3
   },
   "file_extension": ".py",
   "mimetype": "text/x-python",
   "name": "python",
   "nbconvert_exporter": "python",
   "pygments_lexer": "ipython3",
   "version": "3.9.13"
  }
 },
 "nbformat": 4,
 "nbformat_minor": 5
}
