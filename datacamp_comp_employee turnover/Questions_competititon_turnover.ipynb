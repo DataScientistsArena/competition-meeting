{
 "cells": [
  {
   "cell_type": "markdown",
   "id": "ea25b47e",
   "metadata": {},
   "source": [
    "1-) Key insights (tl;dr) (F14)\n",
    "\n",
    "2-) The company's high attrition rate, left unchecked may lead to lower productivity, inefficiencies, and ultimately higher costs...(elrond)\n",
    "\n",
    "3-) The majority of the staff that leave have been working for the company between 5 - 8 years (günnur)\n",
    "\n",
    "4-) With little variation in attrition rates between departments, suggesting a more systemic issue in nature(onur)\n",
    "\n",
    "5-) Staff that exit typically have higher performance reviews coupled with lower satisfaction rates, compared to those who stayed...(mert)\n",
    "\n",
    "6-) ...As well as working longer days, and receiving relatively fewer promotions or bonuses...(mert)\n",
    "\n",
    "7-)...As staff who left tend to trade off happiness for hard work to get higher performance reviews than their peers, with little benefits.(enginar)\n",
    "\n",
    "8-)Two different groups emerge from employees who left, an older, and younger cohort.(enginar)\n",
    "\n",
    "9-)Identifying staff-at-risk, a classification problem(onur)"
   ]
  },
  {
   "cell_type": "code",
   "execution_count": null,
   "id": "b0b6bcca",
   "metadata": {},
   "outputs": [],
   "source": []
  }
 ],
 "metadata": {
  "kernelspec": {
   "display_name": "Python 3 (ipykernel)",
   "language": "python",
   "name": "python3"
  },
  "language_info": {
   "codemirror_mode": {
    "name": "ipython",
    "version": 3
   },
   "file_extension": ".py",
   "mimetype": "text/x-python",
   "name": "python",
   "nbconvert_exporter": "python",
   "pygments_lexer": "ipython3",
   "version": "3.9.13"
  }
 },
 "nbformat": 4,
 "nbformat_minor": 5
}
