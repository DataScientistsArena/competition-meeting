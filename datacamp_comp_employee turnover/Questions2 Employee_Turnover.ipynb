{
 "cells": [
  {
   "cell_type": "markdown",
   "id": "9ea74802",
   "metadata": {},
   "source": [
    "Target - feature variable relationships (günnur)\n",
    "\n",
    "Variable correlations (ismail)\n",
    "\n",
    "Feature - feature variable relationships (günnur)\n",
    "\n",
    "Hyperparameter tuning and final model selection (selin)\n",
    "\n",
    "Feature importance (uğur)\n",
    "\n",
    "Summary of Major Findings (onur)\n",
    "\n",
    "Recommendations (burak) \n"
   ]
  },
  {
   "cell_type": "code",
   "execution_count": null,
   "id": "34ab43f1",
   "metadata": {},
   "outputs": [],
   "source": []
  }
 ],
 "metadata": {
  "kernelspec": {
   "display_name": "Python 3 (ipykernel)",
   "language": "python",
   "name": "python3"
  },
  "language_info": {
   "codemirror_mode": {
    "name": "ipython",
    "version": 3
   },
   "file_extension": ".py",
   "mimetype": "text/x-python",
   "name": "python",
   "nbconvert_exporter": "python",
   "pygments_lexer": "ipython3",
   "version": "3.9.13"
  }
 },
 "nbformat": 4,
 "nbformat_minor": 5
}
