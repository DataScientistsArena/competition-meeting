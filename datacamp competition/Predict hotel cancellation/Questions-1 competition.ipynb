{
 "cells": [
  {
   "cell_type": "markdown",
   "id": "ba83e75f",
   "metadata": {},
   "source": [
    "yarışma linki:\n",
    "https://app.datacamp.com/learn/competitions/predict-hotel-cancellation?activeTab=competition-overview\n",
    "hotel reservations: \n",
    "\n",
    "soru 1-) aykırı değerler mi önce yapılır yoksa nan imputa mu önce yapılmalıdır? (mert urper)\n",
    "\n",
    "soru 2-) imbalanced sampling ne zaman yapılmalı methodlar neler ? (enginar)\n",
    "\n",
    "soru 3-) feauter engineering dağılımı çok yüksek olanlar için diğer azınlık tek bir feature kullanılabilir mi ? (zeynep)\n",
    "\n",
    "soru 4-) Yapılan genel yorumlar çıkarımlar (MMucahitNAS)\n",
    "\n",
    "dataset ile ilgili notebooklar :\n",
    "https://app.datacamp.com/learn/competitions/bitcoin-stock-portfolio?activeTab=competition-overview\n",
    " \n",
    "\n"
   ]
  },
  {
   "cell_type": "code",
   "execution_count": null,
   "id": "20c28bc7",
   "metadata": {},
   "outputs": [],
   "source": []
  }
 ],
 "metadata": {
  "kernelspec": {
   "display_name": "Python 3 (ipykernel)",
   "language": "python",
   "name": "python3"
  },
  "language_info": {
   "codemirror_mode": {
    "name": "ipython",
    "version": 3
   },
   "file_extension": ".py",
   "mimetype": "text/x-python",
   "name": "python",
   "nbconvert_exporter": "python",
   "pygments_lexer": "ipython3",
   "version": "3.9.13"
  }
 },
 "nbformat": 4,
 "nbformat_minor": 5
}
